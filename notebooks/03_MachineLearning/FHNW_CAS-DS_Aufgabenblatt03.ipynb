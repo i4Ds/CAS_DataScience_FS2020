{
 "cells": [
  {
   "cell_type": "markdown",
   "metadata": {},
   "source": [
    "# CAS Data Science\n",
    "## Machine Learning - Aufgabenblatt 3"
   ]
  },
  {
   "cell_type": "markdown",
   "metadata": {},
   "source": [
    "### Aufgabe 1\n",
    "\n",
    "Laden Sie den Datensatz `iris_data.csv` und visualisieren Sie diesen."
   ]
  },
  {
   "cell_type": "code",
   "execution_count": 1,
   "metadata": {},
   "outputs": [],
   "source": [
    "### ENTER YOUR CODE HERE"
   ]
  },
  {
   "cell_type": "markdown",
   "metadata": {},
   "source": [
    "### Aufgabe 2\n",
    "\n",
    "Bei welcher Klasse ist die Zugehörigkeit wohl leicht zu voherzusagen? Warum?"
   ]
  },
  {
   "cell_type": "code",
   "execution_count": 2,
   "metadata": {},
   "outputs": [],
   "source": [
    "### ENTER YOUR CODE HERE"
   ]
  },
  {
   "cell_type": "markdown",
   "metadata": {},
   "source": [
    "### Aufgabe 3\n",
    "\n",
    "Erstellen sie einen *Input* Datensatz `X` und einen *Output*-Vektor `y`. `y` sei durch die Variable `name` gegeben.\n",
    "\n",
    "Unterteilen Sie den Datensatz in *training* und *test set* im Verhältnis 80:20."
   ]
  },
  {
   "cell_type": "code",
   "execution_count": 3,
   "metadata": {},
   "outputs": [],
   "source": [
    "### ENTER YOUR CODE HERE"
   ]
  },
  {
   "cell_type": "markdown",
   "metadata": {},
   "source": [
    "### Aufgabe 4\n",
    "\n",
    "Normalisieren Sie den Datensatz mit dem `Normalizer` aus dem `preprocessing`-Modul. Normalisieren Sie dabei den *Input* des *training sets* und des *test sets* mit der gleichen *Normalizer*-Instanz sequentiell erst für das *training set*, dann für das *test set* (nur noch `transform` aufrufen).  \n",
    "\n",
    "Lesen Sie im `docstring` nach, was der `Normalizer`-*Transformer* genau macht? Erwarten Sie davon einen Effekt auf Ihr Resultat?"
   ]
  },
  {
   "cell_type": "code",
   "execution_count": 4,
   "metadata": {},
   "outputs": [],
   "source": [
    "### ENTER YOUR CODE HERE"
   ]
  },
  {
   "cell_type": "markdown",
   "metadata": {},
   "source": [
    "### Aufgabe 5\n",
    "\n",
    "Verwenden sie nun den `LogisticRegression`-*Estimator auf dem normalisierten Datensatz. \n",
    "\n",
    "Bestimmen sie denjenigen Wert für die Regularisierungsstärke mit $l_2$-Regularisierung, bei welcher Sie das beste Resultat im Sinne der *Overall Accuracy* erzielen, bei *5-fold Cross Validation*.  \n",
    "\n",
    "Wie interpretieren Sie das Resultat?"
   ]
  },
  {
   "cell_type": "code",
   "execution_count": 5,
   "metadata": {},
   "outputs": [],
   "source": [
    "### ENTER YOUR CODE HERE"
   ]
  },
  {
   "cell_type": "markdown",
   "metadata": {},
   "source": [
    "### Aufgabe 6\n",
    "\n",
    "Nun verwenden wir eine *Support Vector Machine* zur Klassifikation des normierten Datensatzes.\n",
    "\n",
    "Verwenden Sie dabei einen *sigmoiden Kernel* und finden Sie mit *Grid Search Cross Validation* (5-fold CV) das beste Wertepaar für `C` und `gamma`.\n",
    "\n",
    "Visualisieren Sie die erzielten *Overall Accuracies*. Wie interpretieren Sie diesen Plot?"
   ]
  },
  {
   "cell_type": "code",
   "execution_count": 6,
   "metadata": {},
   "outputs": [],
   "source": [
    "### ENTER YOUR CODE HERE"
   ]
  },
  {
   "cell_type": "markdown",
   "metadata": {},
   "source": [
    "### Aufgabe 7\n",
    "\n",
    "Verwenden Sie einen unskalierten, reduzierten Datensatz, wie im Skript, und setzen Sie den *Naive Bayes*-Estimator zur Klassifikation ein. Zeichnen Sie die *decision regions*.\n",
    "\n",
    "Wie interpretieren Sie diesen Plot?"
   ]
  },
  {
   "cell_type": "code",
   "execution_count": 7,
   "metadata": {},
   "outputs": [],
   "source": [
    "### ENTER YOUR CODE HERE"
   ]
  },
  {
   "cell_type": "markdown",
   "metadata": {},
   "source": [
    "### Aufgabe 8\n",
    "\n",
    "Erzeugen Sie einen Entscheidungsbaum für sämtliche Variablen und sämtliche Klassen im *Iris*-Datensatz.\n",
    "\n",
    "Messen Sie die *Overall Accuracy* auf einem *test set* (*train test split : 80:20*).\n",
    "\n",
    "Visualisieren Sie den gefundenen Baum."
   ]
  },
  {
   "cell_type": "code",
   "execution_count": 8,
   "metadata": {},
   "outputs": [],
   "source": [
    "### ENTER YOUR CODE HERE"
   ]
  },
  {
   "cell_type": "markdown",
   "metadata": {},
   "source": [
    "### Aufgabe 9\n",
    "\n",
    "Laden Sie mit untenstehender Funktion den *MNIST*-Datensatz.\n",
    "\n",
    "Zeichnen Sie 25 zufällig ausgewählte Ziffern als Bilder mit `plt.imshow(..)` ein 5x5-*Array* von `subplots`."
   ]
  },
  {
   "cell_type": "code",
   "execution_count": 9,
   "metadata": {},
   "outputs": [],
   "source": [
    "### ENTER YOUR CODE HERE"
   ]
  },
  {
   "cell_type": "markdown",
   "metadata": {},
   "source": [
    "### Aufgabe 10\n",
    "\n",
    "Finden Sie eine Architektur und eine Paremtrisierung eines neuronalen Netzwerks, welches einen möglichst hohen Wert im Sinne der *Overall Accuracy* auf dem *MNIST*-Datensatz erzielt.  \n",
    "\n",
    "Messen sie die Zeit, die Sie zum Trainieren brauchen mit der Jupyter *magic function* `%time`.  \n",
    "Überlegen Sie sich, wie sie die Daten präprozessieren könnten, um möglichst schnell trainieren zu können.\n",
    "\n",
    "Zeichnen Sie dann die *Confusion Matrix* für das *test set*. Welche Zahlen sind schwierig zu unterscheiden?"
   ]
  },
  {
   "cell_type": "code",
   "execution_count": 10,
   "metadata": {},
   "outputs": [],
   "source": [
    "### ENTER YOUR CODE HERE"
   ]
  }
 ],
 "metadata": {
  "kernelspec": {
   "display_name": "Python 3",
   "language": "python",
   "name": "python3"
  },
  "language_info": {
   "codemirror_mode": {
    "name": "ipython",
    "version": 3
   },
   "file_extension": ".py",
   "mimetype": "text/x-python",
   "name": "python",
   "nbconvert_exporter": "python",
   "pygments_lexer": "ipython3",
   "version": "3.7.6"
  }
 },
 "nbformat": 4,
 "nbformat_minor": 4
}
